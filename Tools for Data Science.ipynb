{
 "cells": [
  {
   "cell_type": "markdown",
   "metadata": {},
   "source": [
    "# My First Data science notebook"
   ]
  },
  {
   "cell_type": "markdown",
   "metadata": {},
   "source": [
    "## Introduction\n",
    "\n",
    "Hi this is a Data science notebook that defines data science languages, libraries, tools and few code block examples."
   ]
  },
  {
   "cell_type": "markdown",
   "metadata": {},
   "source": [
    "## Table of content\n",
    "\n",
    "1. Data Science languages\n",
    "1. Data Science libraries\n",
    "1. Data Science tools\n",
    "1. Arithmetic expression examples\n",
    "1. Code to multiply and add numbers\n",
    "1. Code to convert minutes to hours\n",
    "1. Objectives\n",
    "1. Author’s name\n"
   ]
  },
  {
   "cell_type": "markdown",
   "metadata": {},
   "source": [
    "### Data Science languages\n",
    "\n",
    "1. Python\n",
    "1. R\n",
    "1. SQL\n",
    "1. Scala\n",
    "1. Java\n",
    "1. C++\n",
    "1. Julia"
   ]
  },
  {
   "cell_type": "markdown",
   "metadata": {},
   "source": [
    "### Data Science libraries\n",
    "\n",
    "1. Pandas\n",
    "1. NumPy\n",
    "1. SciPy\n",
    "1. Matplotlib"
   ]
  },
  {
   "cell_type": "markdown",
   "metadata": {},
   "source": [
    "### Data Science tools\n",
    "\n",
    "|Programming Language|Tools|\n",
    "|--|--|\n",
    "|Java | Weka, Java-ML, Apache MLlib, and Deeplearning |\n",
    "|Scala | Apache Spark which includes Shark, MLlib, GraphX, and Spark Streaming |\n",
    "|JavaScript | TensorFlow.js and R-js |"
   ]
  },
  {
   "cell_type": "markdown",
   "metadata": {},
   "source": [
    "### Arithmetic expression examples\n",
    "\n",
    "1. Multiplication example: \n",
    "    ```\n",
    "    2 * 2 = 4\n",
    "    4 * 8 = 32\n",
    "    ```\n",
    "\n",
    "1. Addition example:\n",
    "    ```\n",
    "    2 + 2 = 4\n",
    "    4 + 8 = 12\n",
    "    ```"
   ]
  },
  {
   "cell_type": "code",
   "execution_count": 2,
   "metadata": {},
   "outputs": [
    {
     "name": "stdout",
     "output_type": "stream",
     "text": [
      "Multiplication of 4 * 8 = 32\n",
      "Sum of 4 + 8 = 12\n"
     ]
    }
   ],
   "source": [
    "def multiply(num1, num2):\n",
    "    return num1 * num2\n",
    "\n",
    "def addition(num1, num2):\n",
    "    return num1 + num2\n",
    "\n",
    "num1 = 4\n",
    "num2 = 8\n",
    "print(f\"Multiplication of {num1} * {num2} = {multiply(num1, num2)}\")\n",
    "print(f\"Sum of {num1} + {num2} = {addition(num1, num2)}\")"
   ]
  },
  {
   "cell_type": "markdown",
   "metadata": {},
   "source": [
    "### Code to convert minutes to hours"
   ]
  },
  {
   "cell_type": "code",
   "execution_count": 4,
   "metadata": {},
   "outputs": [
    {
     "name": "stdout",
     "output_type": "stream",
     "text": [
      "90 min = 1.5 hrs\n"
     ]
    }
   ],
   "source": [
    "def minTohrs(minutes):\n",
    "    return (minutes / 60)\n",
    "\n",
    "minutes = 90\n",
    "print(\"{m} min = {h} hrs\".format(m=minutes, h=minTohrs(minutes)))"
   ]
  },
  {
   "cell_type": "markdown",
   "metadata": {},
   "source": [
    "### Objectives\n",
    "The objective of this notebook is to demonstrate my learnings from the module data science tools. I have demonstrated creation of markdown cells and python code blocks in this notebook. Hope you'll find my assignment good and evaluate correctly. Thank you!"
   ]
  },
  {
   "cell_type": "markdown",
   "metadata": {},
   "source": [
    "### Author’s name\n",
    "\n",
    "<i>Radhika Patil</i>"
   ]
  }
 ],
 "metadata": {
  "kernelspec": {
   "display_name": "Python 3.10",
   "language": "python",
   "name": "python3"
  },
  "language_info": {
   "codemirror_mode": {
    "name": "ipython",
    "version": 3
   },
   "file_extension": ".py",
   "mimetype": "text/x-python",
   "name": "python",
   "nbconvert_exporter": "python",
   "pygments_lexer": "ipython3",
   "version": "3.10.13"
  }
 },
 "nbformat": 4,
 "nbformat_minor": 1
}
